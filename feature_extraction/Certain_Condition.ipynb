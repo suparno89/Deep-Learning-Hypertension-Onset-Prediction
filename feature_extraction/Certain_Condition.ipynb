{
 "cells": [
  {
   "cell_type": "code",
   "execution_count": null,
   "metadata": {},
   "outputs": [],
   "source": [
    "##### REQUIRES THE DATAFRAME FOLDER TO BE NAMED 'Cohorts', WHICH INCLUDES ALL PRECOMPUTED DATAFRAMES #####\n",
    "import fiber\n",
    "from fiber.cohort import Cohort\n",
    "from fiber.condition import Patient, MRNs\n",
    "from fiber.condition import Diagnosis\n",
    "from fiber.condition import Measurement, Encounter, Drug\n",
    "from fiber.storage import yaml as fiberyaml\n",
    "import pandas as pd\n",
    "import pyarrow.parquet as pq\n",
    "import numpy as np\n",
    "import os\n",
    "from functools import reduce "
   ]
  },
  {
   "cell_type": "code",
   "execution_count": null,
   "metadata": {},
   "outputs": [],
   "source": [
    "#load Cohorts\n",
    "Case_filtered_15_540 = pq.read_table('Cohorts/Case/Case_filtered_15_540.parquet').to_pandas()\n",
    "Control_filtered_15_540 = pq.read_table('Cohorts/Control/Control_filtered_15_540.parquet').to_pandas()"
   ]
  },
  {
   "cell_type": "code",
   "execution_count": null,
   "metadata": {},
   "outputs": [],
   "source": [
    "#define test Cohorts\n",
    "Test_Case_filtered_15_540 = Case_filtered_15_540.tail()\n",
    "Test_Control_filtered_15_540 = Control_filtered_15_540.head()\n",
    "print(Test_Case_filtered_15_540)\n",
    "#print(Test_Control_filtered_15_540)"
   ]
  },
  {
   "cell_type": "code",
   "execution_count": null,
   "metadata": {},
   "outputs": [],
   "source": [
    "#generic function get cohort \n",
    "def df_to_cohort(df):\n",
    "    mrns = list(df.index.values)\n",
    "    condition = MRNs(mrns)\n",
    "    return Cohort(condition)"
   ]
  },
  {
   "cell_type": "code",
   "execution_count": null,
   "metadata": {},
   "outputs": [],
   "source": [
    "#Example for Cardio Vascular Diseases\n",
    "conditions_cv = (Diagnosis(\"39%\", \"ICD-9\")|\n",
    "              Diagnosis(\"40%\", \"ICD-9\")|\n",
    "              Diagnosis(\"42%\", \"ICD-9\")|\n",
    "              Diagnosis(\"43%\", \"ICD-9\")|\n",
    "              Diagnosis(\"44%\", \"ICD-9\")|\n",
    "              Diagnosis(\"45%\", \"ICD-9\")|\n",
    "             Diagnosis(\"I0%\", \"ICD-10\")|\n",
    "             Diagnosis(\"I2%\", \"ICD-10\")|\n",
    "             Diagnosis(\"I3%\", \"ICD-10\")|\n",
    "             Diagnosis(\"I4%\", \"ICD-10\")|\n",
    "              Diagnosis(\"I5%\", \"ICD-10\")|\n",
    "              Diagnosis(\"I6%\", \"ICD-10\")|\n",
    "              Diagnosis(\"I7%\", \"ICD-10\")|\n",
    "              Diagnosis(\"I8%\", \"ICD-10\")|\n",
    "              Diagnosis(\"I9%\", \"ICD-10\"))\n",
    "#Control_filtered_15_540_Cardiovascular = cohort.get(conditions)"
   ]
  },
  {
   "cell_type": "code",
   "execution_count": null,
   "metadata": {},
   "outputs": [],
   "source": [
    "#find out how often a a patient had a certain disease\n",
    "def get_mrn_has_certain_condition_EVER(mrn, df, max_age_in_days):\n",
    "    #checking if mrn in dataframe\n",
    "    if (df[df.values == mrn].empty==False): \n",
    "        #reducing the dataframe\n",
    "        patient_df=df.loc[df.medical_record_number==mrn]\n",
    "        #print(patient_df)\n",
    "        before_gap= patient_df['age_in_days']<max_age_in_days\n",
    "        patient_df=patient_df[before_gap]\n",
    "        #print(patient_df)\n",
    "        if (len(patient_df)>0):\n",
    "            return 1 \n",
    "        else: \n",
    "            return 0\n",
    "    else: \n",
    "        return 0"
   ]
  },
  {
   "cell_type": "code",
   "execution_count": null,
   "metadata": {},
   "outputs": [],
   "source": [
    "#find out how often  a patient had a certain disease\n",
    "def get_mrn_has_certain_condition_COUNT(mrn, df, max_age_in_days):\n",
    "    #checking if mrn in dataframe\n",
    "    if (df[df.values == mrn].empty==False): \n",
    "        #reducing the dataframe\n",
    "        patient_df=df.loc[df.medical_record_number==mrn]\n",
    "        #print(patient_df)\n",
    "        before_gap= patient_df['age_in_days']<max_age_in_days\n",
    "        patient_df=patient_df[before_gap]\n",
    "        #print(patient_df)\n",
    "        #print(len(patient_df))\n",
    "        #checking whether an entry exist, which happend befor the time gap\n",
    "        return (len(patient_df))\n",
    "    else: \n",
    "        return 0"
   ]
  },
  {
   "cell_type": "code",
   "execution_count": null,
   "metadata": {},
   "outputs": [],
   "source": [
    "#find out how often a  patient had a certain disease in a time window\n",
    "#The Time Window is currenly set within the function\n",
    "def get_mrn_has_certain_condition_WINDOW(mrn, df, max_age_in_days):\n",
    "    #checking if mrn in dataframe\n",
    "    if (df[df.values == mrn].empty==False): \n",
    "        #reducing the dataframe\n",
    "        patient_df=df.loc[df.medical_record_number==mrn]\n",
    "       # print(patient_df)\n",
    "        before_gap= patient_df['age_in_days']<max_age_in_days\n",
    "        #GAP \n",
    "        window_gap=patient_df['age_in_days']>(max_age_in_days-10000)\n",
    "        patient_df=patient_df[window_gap]\n",
    "       ## print(patient_df)\n",
    "       # print(len(patient_df))\n",
    "        #checking whether an entry exist, which happend befor the time gap\n",
    "        return (len(patient_df))\n",
    "    else: \n",
    "        return 0"
   ]
  },
  {
   "cell_type": "code",
   "execution_count": null,
   "metadata": {},
   "outputs": [],
   "source": [
    "#condition= FIBER Condition \n",
    "#df_mrn = pandas Data frame with Patient MRNS \n",
    "#name_df = Name o the new Dataframe\n",
    "#name_feature =Feature name \n",
    "#frequency = type of occurence: EVER, COUNT,WINDOW\n",
    "def get_has_certain_condition(condition, df_mrn, name_cohort,name_feature,gap_in_days,name_df, frequency):\n",
    "    #get cohort\n",
    "    cohort = df_to_cohort(df_mrn)\n",
    "    #get cohort with condition\n",
    "    cohort_condition = cohort.get(condition)\n",
    "    print(cohort_condition)\n",
    "    #save cohrt\n",
    "    cohort_condition.to_parquet(name_cohort)\n",
    "    # get MRNs of input file \n",
    "    cohort_indexes= df_mrn.index\n",
    "    #get 0 for no diagnosis and 1 for has diagnosis\n",
    "    cohort_mrn_diagnosis=[]\n",
    "    if frequency=='EVER':\n",
    "        for mrn in cohort_indexes: \n",
    "            x = get_mrn_has_certain_condition_EVER(mrn,cohort_condition,df_mrn.loc[mrn][\"HT_Onset\"]-gap_in_days)\n",
    "            a = [mrn, x]\n",
    "            cohort_mrn_diagnosis.append(a)\n",
    "    if frequency=='COUNT':\n",
    "        for mrn in cohort_indexes: \n",
    "            x = get_mrn_has_certain_condition_COUNT(mrn,cohort_condition,df_mrn.loc[mrn][\"HT_Onset\"]-gap_in_days)\n",
    "            a = [mrn, x]\n",
    "            cohort_mrn_diagnosis.append(a)\n",
    "    if frequency=='WINDOW':\n",
    "        for mrn in cohort_indexes: \n",
    "            x = get_mrn_has_certain_condition_WINDOW(mrn,cohort_condition,df_mrn.loc[mrn][\"HT_Onset\"]-gap_in_days)\n",
    "            a = [mrn, x]\n",
    "            cohort_mrn_diagnosis.append(a)\n",
    "    else:\n",
    "        print(\"function not available\")\n",
    "    #convert list cohort_mrn_diagnosis to panda\n",
    "    condition_name= 'has_condition_'+name_feature\n",
    "    col_names = ['medical_record_number',condition_name]\n",
    "    df_final=pd.DataFrame(cohort_mrn_diagnosis,columns=col_names)\n",
    "    df_final.set_index('medical_record_number', inplace=True)\n",
    "    df_final=df_mrn.merge( df_final, left_index=True, right_index=True)\n",
    "    df_final.to_parquet(name_df)\n",
    "    print(df_final)\n",
    "    return df_final"
   ]
  },
  {
   "cell_type": "code",
   "execution_count": null,
   "metadata": {},
   "outputs": [],
   "source": [
    "conditions_CV = (Diagnosis(\"39%\", \"ICD-9\")|\n",
    "              Diagnosis(\"40%\", \"ICD-9\")|\n",
    "              Diagnosis(\"42%\", \"ICD-9\")|\n",
    "              Diagnosis(\"43%\", \"ICD-9\")|\n",
    "              Diagnosis(\"44%\", \"ICD-9\")|\n",
    "              Diagnosis(\"45%\", \"ICD-9\")|\n",
    "             Diagnosis(\"I0%\", \"ICD-10\")|\n",
    "             Diagnosis(\"I2%\", \"ICD-10\")|\n",
    "             Diagnosis(\"I3%\", \"ICD-10\")|\n",
    "             Diagnosis(\"I4%\", \"ICD-10\")|\n",
    "              Diagnosis(\"I5%\", \"ICD-10\")|\n",
    "              Diagnosis(\"I6%\", \"ICD-10\")|\n",
    "              Diagnosis(\"I7%\", \"ICD-10\")|\n",
    "              Diagnosis(\"I8%\", \"ICD-10\")|\n",
    "              Diagnosis(\"I9%\", \"ICD-10\"))"
   ]
  },
  {
   "cell_type": "code",
   "execution_count": null,
   "metadata": {},
   "outputs": [],
   "source": [
    "#Test Diabetes\n",
    "conditions_diabetes_type_2 = (Diagnosis(\"249%\",\"ICD-9\")|\n",
    "                            Diagnosis(\"E11%\",\"ICD-10\"))"
   ]
  },
  {
   "cell_type": "code",
   "execution_count": null,
   "metadata": {},
   "outputs": [],
   "source": [
    "#test Diastolic Blood Pressure \n",
    "conditions_Blood_Pressure=Measurement(\"Diastolic Blood Pressure\") > 70"
   ]
  },
  {
   "cell_type": "code",
   "execution_count": null,
   "metadata": {},
   "outputs": [],
   "source": [
    "#test Drug Lisinopril \n",
    "condition_lisinopril=(Drug(\"%Lisinopril%\"))"
   ]
  },
  {
   "cell_type": "code",
   "execution_count": null,
   "metadata": {},
   "outputs": [],
   "source": [
    "Test_Case_filtered_15_540"
   ]
  },
  {
   "cell_type": "code",
   "execution_count": null,
   "metadata": {},
   "outputs": [],
   "source": [
    "Test_Case_filtered_15_540.loc[\"999008531\"][\"HT_Onset\"]-180"
   ]
  },
  {
   "cell_type": "code",
   "execution_count": null,
   "metadata": {},
   "outputs": [],
   "source": [
    "#Test on Diabetes Condition \n",
    "df_final= get_has_certain_condition(condition_diabetes_type_2,Test_Case_filtered_15_540, \"Test_Diabetes_Case_filtered_15_540\", \"Diabetes_Type_2\",180, \"Test_Diabetes_Case_filtered_15_540.parquet\",\"WINDOW\")\n"
   ]
  },
  {
   "cell_type": "code",
   "execution_count": null,
   "metadata": {},
   "outputs": [],
   "source": [
    "df_final"
   ]
  },
  {
   "cell_type": "code",
   "execution_count": null,
   "metadata": {},
   "outputs": [],
   "source": [
    "Test_Case_filtered_15_540"
   ]
  },
  {
   "cell_type": "code",
   "execution_count": null,
   "metadata": {},
   "outputs": [],
   "source": [
    " \n",
    "df_final= get_has_certain_condition(condition_diabetes_type_2, Case_filtered_15_540, \"Test_Diabetes_Case_filtered_15_540\", \"Diabetes_Type_2\",180, \"Test_Diabetes_Case_filtered_15_540.parquet\",\"EVER\")\n"
   ]
  },
  {
   "cell_type": "code",
   "execution_count": null,
   "metadata": {},
   "outputs": [],
   "source": []
  }
 ],
 "metadata": {
  "kernelspec": {
   "display_name": "Python 3",
   "language": "python",
   "name": "python3"
  },
  "language_info": {
   "codemirror_mode": {
    "name": "ipython",
    "version": 3
   },
   "file_extension": ".py",
   "mimetype": "text/x-python",
   "name": "python",
   "nbconvert_exporter": "python",
   "pygments_lexer": "ipython3",
   "version": "3.7.4"
  }
 },
 "nbformat": 4,
 "nbformat_minor": 2
}
