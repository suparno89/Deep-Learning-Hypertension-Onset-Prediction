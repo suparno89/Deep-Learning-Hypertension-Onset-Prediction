{
 "cells": [
  {
   "cell_type": "code",
   "execution_count": null,
   "metadata": {},
   "outputs": [],
   "source": [
    "##### REQUIRES THE DATAFRAME FOLDER TO BE NAMED 'Cohorts', WHICH INCLUDES ALL PRECOMPUTED DATAFRAMES #####\n",
    "import fiber\n",
    "from fiber.cohort import Cohort\n",
    "from fiber.condition import Patient, MRNs\n",
    "from fiber.condition import Diagnosis\n",
    "from fiber.condition import Measurement, Encounter, Drug\n",
    "from fiber.storage import yaml as fiberyaml\n",
    "import pandas as pd\n",
    "import pyarrow.parquet as pq\n",
    "import numpy as np\n",
    "import os\n",
    "from functools import reduce "
   ]
  },
  {
   "cell_type": "code",
   "execution_count": null,
   "metadata": {},
   "outputs": [],
   "source": [
    "#load Cohorts\n",
    "Case_filtered_15_540 = pq.read_table('Cohorts/Case/Case_filtered_15_540.parquet').to_pandas()\n",
    "Control_filtered_15_540 = pq.read_table('Cohorts/Control/Control_filtered_15_540.parquet').to_pandas()"
   ]
  },
  {
   "cell_type": "code",
   "execution_count": null,
   "metadata": {},
   "outputs": [],
   "source": [
    "#define test Cohorts\n",
    "Test_Case_filtered_15_540 = Case_filtered_15_540.head()\n",
    "Test_Control_filtered_15_540 = Control_filtered_15_540.head()\n",
    "print(Test_Case_filtered_15_540)\n",
    "print(Test_Control_filtered_15_540)"
   ]
  },
  {
   "cell_type": "code",
   "execution_count": null,
   "metadata": {},
   "outputs": [],
   "source": [
    "#generic function get cohort \n",
    "def df_to_cohort(df):\n",
    "    mrns = list(df.index.values)\n",
    "    condition = MRNs(mrns)\n",
    "    return Cohort(condition)"
   ]
  },
  {
   "cell_type": "code",
   "execution_count": null,
   "metadata": {},
   "outputs": [],
   "source": [
    "#get Case Cohort\n",
    "cohort = df_to_cohort(Case_filtered_15_540)\n",
    "\n",
    "conditions = (Diagnosis(\"39%\", \"ICD-9\")|\n",
    "              Diagnosis(\"40%\", \"ICD-9\")|\n",
    "              Diagnosis(\"42%\", \"ICD-9\")|\n",
    "              Diagnosis(\"43%\", \"ICD-9\")|\n",
    "              Diagnosis(\"44%\", \"ICD-9\")|\n",
    "              Diagnosis(\"45%\", \"ICD-9\")|\n",
    "             Diagnosis(\"I0%\", \"ICD-10\")|\n",
    "             Diagnosis(\"I2%\", \"ICD-10\")|\n",
    "             Diagnosis(\"I3%\", \"ICD-10\")|\n",
    "             Diagnosis(\"I4%\", \"ICD-10\")|\n",
    "              Diagnosis(\"I5%\", \"ICD-10\")|\n",
    "              Diagnosis(\"I6%\", \"ICD-10\")|\n",
    "              Diagnosis(\"I7%\", \"ICD-10\")|\n",
    "              Diagnosis(\"I8%\", \"ICD-10\")|\n",
    "              Diagnosis(\"I9%\", \"ICD-10\"))\n",
    "Case_filtered_15_540_Cardiovascular = cohort.get(conditions)"
   ]
  },
  {
   "cell_type": "code",
   "execution_count": null,
   "metadata": {},
   "outputs": [],
   "source": [
    "#get Control Cohort\n",
    "cohort = df_to_cohort(Control_filtered_15_540)\n",
    "\n",
    "conditions = (Diagnosis(\"39%\", \"ICD-9\")|\n",
    "              Diagnosis(\"40%\", \"ICD-9\")|\n",
    "              Diagnosis(\"42%\", \"ICD-9\")|\n",
    "              Diagnosis(\"43%\", \"ICD-9\")|\n",
    "              Diagnosis(\"44%\", \"ICD-9\")|\n",
    "              Diagnosis(\"45%\", \"ICD-9\")|\n",
    "             Diagnosis(\"I0%\", \"ICD-10\")|\n",
    "             Diagnosis(\"I2%\", \"ICD-10\")|\n",
    "             Diagnosis(\"I3%\", \"ICD-10\")|\n",
    "             Diagnosis(\"I4%\", \"ICD-10\")|\n",
    "              Diagnosis(\"I5%\", \"ICD-10\")|\n",
    "              Diagnosis(\"I6%\", \"ICD-10\")|\n",
    "              Diagnosis(\"I7%\", \"ICD-10\")|\n",
    "              Diagnosis(\"I8%\", \"ICD-10\")|\n",
    "              Diagnosis(\"I9%\", \"ICD-10\"))\n",
    "Control_filtered_15_540_Cardiovascular = cohort.get(conditions)"
   ]
  },
  {
   "cell_type": "code",
   "execution_count": null,
   "metadata": {},
   "outputs": [],
   "source": [
    "\n",
    "Case_filtered_15_540_Cardiovascular"
   ]
  },
  {
   "cell_type": "code",
   "execution_count": null,
   "metadata": {},
   "outputs": [],
   "source": [
    "Control_filtered_15_540_Cardiovascular"
   ]
  },
  {
   "cell_type": "code",
   "execution_count": null,
   "metadata": {},
   "outputs": [],
   "source": [
    "#save diagnosis cohorts\n",
    "Case_filtered_15_540_Cardiovascular.to_parquet('Case_filtered_15_540_Cardiovascular.parquet')\n",
    "Control_filtered_15_540_Cardiovascular.to_parquet('Control_filtered_15_540_Cardiovascular.parquet')"
   ]
  },
  {
   "cell_type": "code",
   "execution_count": null,
   "metadata": {},
   "outputs": [],
   "source": [
    "#filter dataframe by one ICD code:\n",
    "test=Control_filtered_15_540_Cardiovascular[Control_filtered_15_540_Cardiovascular.values == \"I81\"]\n",
    "#Wie kann ich nach einem String Teil suchen ? \n",
    "print(test)"
   ]
  },
  {
   "cell_type": "code",
   "execution_count": null,
   "metadata": {},
   "outputs": [],
   "source": [
    "#find out whether a patient has a certain disease\n",
    "def get_mrn_has_certain_diagnosis(mrn, df):\n",
    "    if (df[df.values == mrn].empty==False): \n",
    "        #print(\"ja hat die Diagnose\")\n",
    "        return 1\n",
    "    else: \n",
    "        #print (\"hat sie nicht\")\n",
    "        return 0\n",
    "    "
   ]
  },
  {
   "cell_type": "code",
   "execution_count": null,
   "metadata": {},
   "outputs": [],
   "source": [
    "#test of func\n",
    "if (get_mrn_has_certain_diagnosis(\"414094579\",test)):\n",
    "    print('Juhu')"
   ]
  },
  {
   "cell_type": "code",
   "execution_count": null,
   "metadata": {},
   "outputs": [],
   "source": [
    "Control_MRNs=Control_filtered_15_540.index\n",
    "Control_MRNs"
   ]
  },
  {
   "cell_type": "code",
   "execution_count": null,
   "metadata": {},
   "outputs": [],
   "source": [
    "y=[]\n",
    "for mrn in Control_MRNs: \n",
    "    x = get_mrn_has_certain_diagnosis(mrn,test)\n",
    "    a = [mrn, x]\n",
    "    y.append(a)\n",
    "    "
   ]
  },
  {
   "cell_type": "code",
   "execution_count": null,
   "metadata": {},
   "outputs": [],
   "source": [
    "y.index(['4140974579', True])"
   ]
  },
  {
   "cell_type": "code",
   "execution_count": null,
   "metadata": {},
   "outputs": [],
   "source": [
    "y[462452]"
   ]
  },
  {
   "cell_type": "code",
   "execution_count": null,
   "metadata": {},
   "outputs": [],
   "source": [
    "col_names = ['MRN','has Diagnose x']\n",
    "test_df=pd.DataFrame(y,columns=col_names)"
   ]
  },
  {
   "cell_type": "code",
   "execution_count": null,
   "metadata": {},
   "outputs": [],
   "source": [
    "test_df"
   ]
  },
  {
   "cell_type": "code",
   "execution_count": null,
   "metadata": {},
   "outputs": [],
   "source": [
    "def get_has_certain_diagnosis(icd, coding_system, df_mrn, name_df):\n",
    "    #get cohort\n",
    "    cohort = df_to_cohort(df_mrn)\n",
    "    #create condition\n",
    "    condition= Diagnosis(icd, coding_system)\n",
    "    #get cohort with condition\n",
    "    cohort_condition = cohort.get(condition)\n",
    "    print(cohort_condition)\n",
    "    #save cohrt\n",
    "    cohort_condition.to_parquet(name_df)\n",
    "    # get MRNs of input file \n",
    "    cohort_indexes= df_mrn.index\n",
    "    #get 0 for no diagnosis and 1 for has diagnosis\n",
    "    cohort_mrn_diagnosis=[]\n",
    "    for mrn in cohort_indexes: \n",
    "        x = get_mrn_has_certain_diagnosis(mrn,cohort_condition)\n",
    "        a = [mrn, x]\n",
    "        cohort_mrn_diagnosis.append(a)\n",
    "    #convert list cohort_mrn_diagnosis to panda\n",
    "    condition_name= 'has diagnosis '+icd\n",
    "    col_names = ['MRN',condition_name]\n",
    "    df_final=pd.DataFrame(cohort_mrn_diagnosis,columns=col_names)\n",
    "    print(df_final)\n",
    "    "
   ]
  },
  {
   "cell_type": "code",
   "execution_count": null,
   "metadata": {},
   "outputs": [],
   "source": [
    "get_has_certain_diagnosis(\"I8%\",\"ICD-10\",Test_Case_filtered_15_540,'Test_Case_I87.2')"
   ]
  },
  {
   "cell_type": "code",
   "execution_count": null,
   "metadata": {},
   "outputs": [],
   "source": []
  }
 ],
 "metadata": {
  "kernelspec": {
   "display_name": "Python 3",
   "language": "python",
   "name": "python3"
  },
  "language_info": {
   "codemirror_mode": {
    "name": "ipython",
    "version": 3
   },
   "file_extension": ".py",
   "mimetype": "text/x-python",
   "name": "python",
   "nbconvert_exporter": "python",
   "pygments_lexer": "ipython3",
   "version": "3.7.4"
  }
 },
 "nbformat": 4,
 "nbformat_minor": 2
}
