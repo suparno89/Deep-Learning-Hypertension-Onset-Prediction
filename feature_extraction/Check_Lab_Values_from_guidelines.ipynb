{
 "cells": [
  {
   "cell_type": "code",
   "execution_count": null,
   "metadata": {},
   "outputs": [],
   "source": [
    "import fiber\n",
    "from fiber.condition import Measurement, Encounter, Drug, LabValue\n",
    "import pandas as pd\n",
    "import numpy as np"
   ]
  },
  {
   "cell_type": "code",
   "execution_count": null,
   "metadata": {},
   "outputs": [],
   "source": [
    "lab = LabValue('%Urinary albumin%').values_per('test_name')"
   ]
  },
  {
   "cell_type": "code",
   "execution_count": null,
   "metadata": {},
   "outputs": [],
   "source": [
    "lab"
   ]
  },
  {
   "cell_type": "code",
   "execution_count": null,
   "metadata": {},
   "outputs": [],
   "source": [
    "# From guidelines\n",
    "Fasting blood glucose*\n",
    "Complete blood count\n",
    "# Lipid profile (checked)\n",
    "# Serum creatinine with eGFR* (checked, but not sure about eGFR)\n",
    "# Serum sodium, potassium, calcium* (checked)\n",
    "# Thyroid-stimulating hormone (checked TSH)\n",
    "Urinalysis\n",
    "Electrocardiogram\n",
    "Echocardiogram\n",
    "# Uric acid (checked)\n",
    "Urinary albumin to creatinine ratio"
   ]
  },
  {
   "cell_type": "code",
   "execution_count": null,
   "metadata": {},
   "outputs": [],
   "source": []
  },
  {
   "cell_type": "code",
   "execution_count": null,
   "metadata": {},
   "outputs": [],
   "source": []
  }
 ],
 "metadata": {
  "kernelspec": {
   "display_name": "Python 3",
   "language": "python",
   "name": "python3"
  },
  "language_info": {
   "codemirror_mode": {
    "name": "ipython",
    "version": 3
   },
   "file_extension": ".py",
   "mimetype": "text/x-python",
   "name": "python",
   "nbconvert_exporter": "python",
   "pygments_lexer": "ipython3",
   "version": "3.7.4"
  }
 },
 "nbformat": 4,
 "nbformat_minor": 2
}
