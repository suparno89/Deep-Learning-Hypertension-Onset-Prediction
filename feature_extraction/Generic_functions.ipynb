{
 "cells": [
  {
   "cell_type": "code",
   "execution_count": null,
   "metadata": {},
   "outputs": [],
   "source": [
    "import fiber\n",
    "from fiber.cohort import Cohort\n",
    "from fiber.condition import Patient, MRNs, Weight, TobaccoUse, AlcoholUse, Weight\n",
    "from fiber.condition import Diagnosis\n",
    "from fiber.condition import Measurement, Encounter, Drug\n",
    "from fiber.storage import yaml as fiberyaml\n",
    "import pandas as pd\n",
    "import pyarrow.parquet as pq\n",
    "import numpy as np\n",
    "import os\n",
    "from functools import reduce"
   ]
  },
  {
   "cell_type": "code",
   "execution_count": null,
   "metadata": {},
   "outputs": [],
   "source": [
    "##Converts dataframe to a Fiber Cohort, where the Cohort.get function can be executed on\n",
    "def df_to_cohort(df):\n",
    "    mrns = list(df.index.values)\n",
    "    condition = MRNs(mrns)\n",
    "    return Cohort(condition)\n"
   ]
  },
  {
   "cell_type": "code",
   "execution_count": null,
   "metadata": {},
   "outputs": [],
   "source": [
    "## Returns a diagram of a given dataframe\n",
    "def get_diagram(dataframe, diagramm_type, column_name, bin_size):\n",
    "    if diagramm_type=='hist':\n",
    "        plt.figure(figsize=[20,8])\n",
    "        plt.hist(dataframe[column_name], bins=bin_size, rwidth=4)\n",
    "        plt.xticks(rotation='vertical')\n",
    "    else: \n",
    "        print(\"diagramm type not available\")"
   ]
  },
  {
   "cell_type": "code",
   "execution_count": null,
   "metadata": {},
   "outputs": [],
   "source": [
    "##How to iterate through rows and change one column\n",
    "\n",
    "for i in x.index:\n",
    "    x.at[i, \"date_of_birth\"] = x.at[i, \"date_of_birth\"].year"
   ]
  },
  {
   "cell_type": "code",
   "execution_count": null,
   "metadata": {},
   "outputs": [],
   "source": [
    "# Filters a dataframe by the number of encounters and total record time\n",
    "def filter_by_encounters(df, number_of_encounter, total_record_time):\n",
    "    df = df.loc[(df[\"number_of_encounters\"] >= number_of_encounter) & (df[\"total_record_time\"] >= total_record_time)]\n",
    "    return df"
   ]
  },
  {
   "cell_type": "code",
   "execution_count": null,
   "metadata": {},
   "outputs": [],
   "source": [
    "#condition= FIBER Condition \n",
    "#df_mrn = pandas Data frame with Patient MRNS \n",
    "#name_df = Name o the new Dataframe\n",
    "#name_feature =Feature name \n",
    "#frequency = type of occurence: EVER, COUNT,WINDOW\n",
    "#Cohort_type = Case/Control\n",
    "def get_has_certain_condition(condition, df_mrn, name_feature, gap_in_days, frequency, cohort_type):\n",
    "    #get cohort\n",
    "    Onset_column = \"HT_Onset\" if cohort_type == \"Case\" else \"last_encounter\"\n",
    "    cohort = df_to_cohort(df_mrn)\n",
    "    #get cohort with condition\n",
    "    cohort_condition = cohort.get(condition)\n",
    "    # Prefilter condition frame, so there are only the rows of interest --> rows which fulfill the gap condition\n",
    "    Filtered_DF = df_mrn.merge(cohort_condition, left_index=True, right_on = \"medical_record_number\")\n",
    "    Filtered_DF = Filtered_DF.set_index(\"medical_record_number\")\n",
    "    # Use only necessary columns age_in_days + HT_Onset\n",
    "    Filtered_DF = Filtered_DF[[\"age_in_days\", Onset_column]]\n",
    "    Filtered_DF = Filtered_DF.loc[(Filtered_DF[Onset_column] - Filtered_DF[\"age_in_days\"]) >= gap_in_days]\n",
    "    # Filtered_DF contains all gap relevant entries\n",
    "    \n",
    "    # get MRNs of input file \n",
    "    #cohort_indexes = df_mrn.index\n",
    "    #get 0 for no diagnosis and 1 for has diagnosis\n",
    "    cohort_mrn_diagnosis=[]\n",
    "    if frequency=='EVER':\n",
    "        #Remove all duplicate MRNs (index)\n",
    "        Filtered_DF = Filtered_DF.loc[~Filtered_DF.index.duplicated(keep='first')]\n",
    "        # Set all Rows to 1, because they occur in the dataframe\n",
    "        Filtered_DF[\"has_condition_\" + name_feature] = 1\n",
    "        # Prepare merging to the whole cohort\n",
    "        to_merge = Filtered_DF[\"has_condition_\" + name_feature]\n",
    "        to_merge = to_merge.to_frame()\n",
    "        #Merge it with a left outer join\n",
    "        cohort_mrn_diagnosis = df_mrn.merge(to_merge, left_index = True, right_index = True, how=\"left\")\n",
    "        # Fill all Rows, which did not appear in the condition with 0\n",
    "        cohort_mrn_diagnosis[\"has_condition_\" + name_feature].fillna(0, inplace=True)\n",
    "    elif frequency=='COUNT':\n",
    "        # Group by Index (MRNs)\n",
    "        Count_DF = Filtered_DF.groupby([Filtered_DF.index]).count()\n",
    "        # Count random column, does not matter which\n",
    "        Count_DF = Count_DF[Onset_column]\n",
    "        #Convert Series to Frame\n",
    "        Count_DF = Count_DF.to_frame()\n",
    "        # Rename column\n",
    "        Count_DF.rename(columns={Onset_column:'number_of_occurences_' + name_feature},inplace=True)\n",
    "        # Merge as above\n",
    "        cohort_mrn_diagnosis = df_mrn.merge(Count_DF, left_index = True, right_index = True, how=\"left\")\n",
    "        cohort_mrn_diagnosis[\"number_of_occurences_\" + name_feature].fillna(0, inplace=True)\n",
    "    elif frequency=='WINDOW':\n",
    "        for mrn in cohort_indexes: \n",
    "            x = get_mrn_has_certain_condition_WINDOW(mrn,cohort_condition,df_mrn.loc[mrn][\"HT_Onset\"]-gap_in_days)\n",
    "            a = [mrn, x]\n",
    "            cohort_mrn_diagnosis.append(a)\n",
    "    else:\n",
    "        print(\"function not available\")\n",
    "    #convert list cohort_mrn_diagnosis to panda\n",
    "    #condition_name= 'has_condition_'+name_feature\n",
    "    #col_names = ['medical_record_number',condition_name]\n",
    "    #df_final=pd.DataFrame(cohort_mrn_diagnosis,columns=col_names)\n",
    "    #df_final.set_index('medical_record_number', inplace=True)\n",
    "    #df_final=df_mrn.merge( df_final, left_index=True, right_index=True)\n",
    "    #df_final.to_parquet(name_df)\n",
    "    #print(df_final)\n",
    "    df_final = cohort_mrn_diagnosis\n",
    "    return df_final"
   ]
  },
  {
   "cell_type": "code",
   "execution_count": null,
   "metadata": {},
   "outputs": [],
   "source": [
    "#takes a fiber dataframe and a dataframe with HT_Onset and checks if the difference between HT_Onset and age_in_days is bigger than 180\n",
    "# can be used for all lab values and other measures, which provide age_in_days\n",
    "def filter_df_Onset(to_check, df_with_HT):\n",
    "    final_merged = to_check.merge(df_with_HT[[\"HT_Onset\"]], left_on=\"medical_record_number\", right_index=True, how=\"left\")\n",
    "    final_filtered = final_merged.loc[(final_merged[\"HT_Onset\"] - final_merged[\"age_in_days\"]) > 180]\n",
    "    return final_filtered"
   ]
  },
  {
   "cell_type": "code",
   "execution_count": 1,
   "metadata": {},
   "outputs": [],
   "source": [
    "# Get min,max,mean and create a new dataframe with these three values from the output of the function filter_df_onset\n",
    "def min_max_mean(df, lab_value_name):\n",
    "    df_min = df.groupby([df[\"medical_record_number\"]])['numeric_value'].min().to_frame()\n",
    "    df_max = df.groupby([df[\"medical_record_number\"]])['numeric_value'].max().to_frame()\n",
    "    df_mean = df.groupby([df[\"medical_record_number\"]])['numeric_value'].mean().to_frame()\n",
    "    df_min.rename(columns={\"numeric_value\": lab_value_name+\"_min\"}, inplace=True)\n",
    "    df_max.rename(columns={\"numeric_value\": lab_value_name+\"_max\"}, inplace=True)\n",
    "    df_mean.rename(columns={\"numeric_value\": lab_value_name+\"_mean\"}, inplace=True)\n",
    "    result = df_min.merge(df_max, left_index=True, right_index=True)\n",
    "    result = result.merge(df_mean, left_index=True, right_index=True)\n",
    "    return result"
   ]
  },
  {
   "cell_type": "code",
   "execution_count": null,
   "metadata": {},
   "outputs": [],
   "source": [
    "Control_complete = pq.read_table('Cohorts/Control/control_encounter_mrns.parquet').to_pandas()\n",
    "Case_complete = pq.read_table('Cohorts/Case/Case_complete.parquet').to_pandas()"
   ]
  },
  {
   "cell_type": "code",
   "execution_count": null,
   "metadata": {},
   "outputs": [],
   "source": [
    "Control_First_Encounters = []\n",
    "Control_Last_Encounters = []\n",
    "Control_Count_Encounters = []\n",
    "Control_MRNs = list(Control_complete.index.values)\n",
    "print(len(Control_MRNs))\n",
    "for limit in range(0, len(Control_MRNs), 500000):\n",
    "    print(\"Begin of iteration: \" +  str(limit))\n",
    "    temp = Control_MRNs[limit:(limit+500000)]\n",
    "    p_condition = MRNs(temp) #how to create cohort from dataframe\n",
    "    cohort = Cohort(p_condition)\n",
    "    print(len(cohort))\n",
    "    enc = cohort.get(Encounter())\n",
    "    Encounter_WO_0 = enc.loc[enc[\"age_in_days\"] != 0]\n",
    "    group = Encounter_WO_0.groupby(['medical_record_number'])['age_in_days']\n",
    "    Control_First_Encounters.append(group.min().to_frame())\n",
    "    print(\"End of iteration: \" +  str(limit))"
   ]
  }
 ],
 "metadata": {
  "kernelspec": {
   "display_name": "Python 3",
   "language": "python",
   "name": "python3"
  },
  "language_info": {
   "codemirror_mode": {
    "name": "ipython",
    "version": 3
   },
   "file_extension": ".py",
   "mimetype": "text/x-python",
   "name": "python",
   "nbconvert_exporter": "python",
   "pygments_lexer": "ipython3",
   "version": "3.7.4"
  }
 },
 "nbformat": 4,
 "nbformat_minor": 2
}
