{
 "cells": [
  {
   "cell_type": "code",
   "execution_count": null,
   "metadata": {},
   "outputs": [],
   "source": [
    "##### REQUIRES THE DATAFRAME FOLDER TO BE NAMED 'Cohorts', WHICH INCLUDES ALL PRECOMPUTED DATAFRAMES #####\n",
    "import fiber\n",
    "from fiber.cohort import Cohort\n",
    "from fiber.condition import Patient, MRNs\n",
    "from fiber.condition import Diagnosis\n",
    "from fiber.condition import Measurement, Encounter, Drug, TobaccoUse\n",
    "from fiber.storage import yaml as fiberyaml\n",
    "import pandas as pd\n",
    "import pyarrow.parquet as pq\n",
    "import numpy as np\n",
    "import os\n",
    "import matplotlib.pyplot as plt\n",
    "from functools import reduce\n"
   ]
  },
  {
   "cell_type": "code",
   "execution_count": null,
   "metadata": {},
   "outputs": [],
   "source": [
    "## Returns a diagram of a given dataframe\n",
    "def get_diagram(dataframe, diagramm_type, column_name, bin_size):\n",
    "    if diagramm_type=='hist':\n",
    "        plt.figure(figsize=[20,8])\n",
    "        plt.hist(dataframe[column_name], bins=bin_size, rwidth=4)\n",
    "        plt.xticks(rotation='vertical')\n",
    "    else: \n",
    "        print(\"diagramm type not available\")"
   ]
  },
  {
   "cell_type": "code",
   "execution_count": null,
   "metadata": {},
   "outputs": [],
   "source": [
    "#load Cohorts\n",
    "Case_filtered_15_540 = pq.read_table('Cohorts/Case/Case_filtered_15_540.parquet').to_pandas()\n",
    "Control_filtered_15_540 = pq.read_table('Cohorts/Control/Control_filtered_15_540.parquet').to_pandas()"
   ]
  },
  {
   "cell_type": "code",
   "execution_count": null,
   "metadata": {},
   "outputs": [],
   "source": [
    "Case_filtered_15_540.columns"
   ]
  },
  {
   "cell_type": "code",
   "execution_count": null,
   "metadata": {},
   "outputs": [],
   "source": [
    "Case_filtered_15_540 = Case_filtered_15_540[(Case_filtered_15_540.gender == 'Female') | ( Case_filtered_15_540.gender == 'Male')]"
   ]
  },
  {
   "cell_type": "code",
   "execution_count": null,
   "metadata": {},
   "outputs": [],
   "source": [
    "Case_filtered_15_540['gender'].value_counts().plot(kind='bar', figsize=(7, 6), color='orange')\n",
    "plt.axis([-1, 2, 0, 400000])\n",
    "plt.xlabel(\"Gender\", labelpad=5)\n",
    "plt.ylabel(\"Count of People\", labelpad=14)\n",
    "plt.title(\"Gender of cases with HT\", y=1.02)\n",
    "#plt.savefig(\"Histo_Case_Gender.pdf\", bbox_inches='tight')\n",
    "plt.show()\n"
   ]
  },
  {
   "cell_type": "code",
   "execution_count": null,
   "metadata": {},
   "outputs": [],
   "source": [
    "Control_filtered_15_540 = Control_filtered_15_540[(Control_filtered_15_540.gender == 'Female') | ( Control_filtered_15_540.gender == 'Male')]"
   ]
  },
  {
   "cell_type": "code",
   "execution_count": null,
   "metadata": {},
   "outputs": [],
   "source": [
    "Control_filtered_15_540['gender'].value_counts().plot(kind='bar', figsize=(7, 6))\n",
    "plt.axis([-1, 2, 0, 400000])\n",
    "plt.xlabel(\"Gender\", labelpad=5)\n",
    "plt.ylabel(\"Count of People\", labelpad=14)\n",
    "plt.title(\"Gender of cases with HT\", y=1.02)\n",
    "#plt.savefig(\"Histo_Control_Gender.pdf\", bbox_inches='tight')\n",
    "plt.show()"
   ]
  },
  {
   "cell_type": "code",
   "execution_count": null,
   "metadata": {},
   "outputs": [],
   "source": [
    "#load Cohorts\n",
    "Case_filtered_15_540 = pq.read_table('Cohorts/Case/Case_filtered_15_540.parquet').to_pandas()\n",
    "Control_filtered_15_540 = pq.read_table('Cohorts/Control/Control_filtered_15_540.parquet').to_pandas()"
   ]
  },
  {
   "cell_type": "code",
   "execution_count": null,
   "metadata": {},
   "outputs": [],
   "source": [
    "Case_filtered_15_540 = Case_filtered_15_540.loc[Case_filtered_15_540[\"total_record_time\"]>0]\n",
    "Case_filtered_15_540 = Case_filtered_15_540.loc[Case_filtered_15_540[\"HT_Onset\"]>6750]\n",
    "\n",
    "Control_filtered_15_540 = Control_filtered_15_540.loc[Control_filtered_15_540[\"total_record_time\"]>0]\n",
    "Control_filtered_15_540 = Control_filtered_15_540.loc[Control_filtered_15_540[\"last_encounter\"]>6750]"
   ]
  },
  {
   "cell_type": "code",
   "execution_count": null,
   "metadata": {},
   "outputs": [],
   "source": [
    "ticks = ['18-26', '27-36', '37-44', '45-53', '54-62', '63-71', '72-81', '82-90']\n",
    "ind = np.arange(8)"
   ]
  },
  {
   "cell_type": "code",
   "execution_count": null,
   "metadata": {},
   "outputs": [],
   "source": [
    "(Case_filtered_15_540['HT_Onset']/365).round(0).value_counts(bins=8, sort=False).plot(kind='bar', figsize=(7, 6), width=1.0, )\n",
    "plt.axis([-1, 8, 0, 40000])\n",
    "plt.xticks(ind, (ticks))\n",
    "plt.xlabel(\"Year of Birth\")\n",
    "plt.ylabel(\"Count of People\")\n",
    "plt.title(\"Ages of cases with HT\", y=1.02)\n",
    "plt.grid(True)\n",
    "#plt.savefig(\"Hist_Case_Age.pdf\", bbox_inches='tight')\n",
    "plt.show()"
   ]
  },
  {
   "cell_type": "code",
   "execution_count": null,
   "metadata": {},
   "outputs": [],
   "source": [
    "(Control_filtered_15_540['last_encounter']/365).round(0).value_counts(bins=15, sort=False).plot(kind='bar', figsize=(7, 6), width=1.0, color='orange')\n",
    "plt.axis([-1, 10, 0, 200000])\n",
    "plt.xlabel(\"Year of Birth\")\n",
    "plt.ylabel(\"Count of People\")\n",
    "plt.title(\"Ages of cases without HT\", y=1.02)\n",
    "plt.grid(True)\n",
    "#plt.savefig(\"Hist_Case_Age.pdf\", bbox_inches='tight')\n",
    "plt.show()"
   ]
  },
  {
   "cell_type": "code",
   "execution_count": null,
   "metadata": {},
   "outputs": [],
   "source": [
    "Case_filtered_15_540['HT_Onset'].hist()"
   ]
  }
 ],
 "metadata": {
  "kernelspec": {
   "display_name": "Python 3",
   "language": "python",
   "name": "python3"
  },
  "language_info": {
   "codemirror_mode": {
    "name": "ipython",
    "version": 3
   },
   "file_extension": ".py",
   "mimetype": "text/x-python",
   "name": "python",
   "nbconvert_exporter": "python",
   "pygments_lexer": "ipython3",
   "version": "3.7.4"
  }
 },
 "nbformat": 4,
 "nbformat_minor": 2
}
