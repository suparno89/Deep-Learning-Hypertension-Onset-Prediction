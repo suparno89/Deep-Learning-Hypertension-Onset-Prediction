{
 "cells": [
  {
   "cell_type": "code",
   "execution_count": null,
   "metadata": {},
   "outputs": [],
   "source": [
    "##### REQUIRES THE DATAFRAME FOLDER TO BE NAMED 'Cohorts', WHICH INCLUDES ALL PRECOMPUTED DATAFRAMES #####\n",
    "import fiber\n",
    "from fiber.cohort import Cohort\n",
    "from fiber.condition import Patient, MRNs\n",
    "from fiber.condition import Diagnosis\n",
    "from fiber.condition import Measurement, Encounter, Drug\n",
    "from fiber.storage import yaml as fiberyaml\n",
    "import pandas as pd\n",
    "import pyarrow.parquet as pq\n",
    "import numpy as np\n",
    "import os\n",
    "from functools import reduce "
   ]
  },
  {
   "cell_type": "code",
   "execution_count": null,
   "metadata": {},
   "outputs": [],
   "source": [
    "#load Cohorts\n",
    "Case_filtered_15_540 = pq.read_table('Cohorts/Case/Case_filtered_15_540.parquet').to_pandas()\n",
    "Control_filtered_15_540 = pq.read_table('Cohorts/Control/Control_filtered_15_540.parquet').to_pandas()"
   ]
  },
  {
   "cell_type": "code",
   "execution_count": null,
   "metadata": {},
   "outputs": [],
   "source": [
    "#generic function get cohort \n",
    "def df_to_cohort(df):\n",
    "    mrns = list(df.index.values)\n",
    "    condition = MRNs(mrns)\n",
    "    return Cohort(condition)"
   ]
  },
  {
   "cell_type": "code",
   "execution_count": null,
   "metadata": {},
   "outputs": [],
   "source": [
    "#condition= FIBER Condition \n",
    "#df_mrn = pandas Data frame with Patient MRNS \n",
    "#name_df = Name o the new Dataframe\n",
    "#name_feature =Feature name \n",
    "#frequency = type of occurence: EVER, COUNT,WINDOW\n",
    "#Cohort_type = Case/Control\n",
    "def get_has_certain_condition(condition, df_mrn, name_feature, gap_in_days, frequency, cohort_type):\n",
    "    #get cohort\n",
    "    Onset_column = \"HT_Onset\" if cohort_type == \"Case\" else \"last_encounter\"\n",
    "    cohort = df_to_cohort(df_mrn)\n",
    "    #get cohort with condition\n",
    "    cohort_condition = cohort.get(condition)\n",
    "    # Prefilter condition frame, so there are only the rows of interest --> rows which fulfill the gap condition\n",
    "    try:\n",
    "        Filtered_DF = df_mrn.merge(cohort_condition, left_index=True, right_on = \"medical_record_number\")\n",
    "    except:\n",
    "        print(\"DataFrame is empty. Condition does not fit to any record!\")\n",
    "        raise SystemExit(0)\n",
    "    Filtered_DF = Filtered_DF.set_index(\"medical_record_number\")\n",
    "    # Use only necessary columns age_in_days + HT_Onset\n",
    "    Filtered_DF = Filtered_DF[[\"age_in_days\", Onset_column]]\n",
    "    Filtered_DF = Filtered_DF.loc[(Filtered_DF[Onset_column] - Filtered_DF[\"age_in_days\"]) >= gap_in_days]\n",
    "    # Filtered_DF contains all gap relevant entries\n",
    "    \n",
    "    # get MRNs of input file \n",
    "    #cohort_indexes = df_mrn.index\n",
    "    #get 0 for no diagnosis and 1 for has diagnosis\n",
    "    cohort_mrn_diagnosis=[]\n",
    "    if frequency=='EVER':\n",
    "        #Remove all duplicate MRNs (index)\n",
    "        Filtered_DF = Filtered_DF.loc[~Filtered_DF.index.duplicated(keep='first')]\n",
    "        # Set all Rows to 1, because they occur in the dataframe\n",
    "        Filtered_DF[\"has_condition_\" + name_feature] = 1\n",
    "        # Prepare merging to the whole cohort\n",
    "        to_merge = Filtered_DF[\"has_condition_\" + name_feature]\n",
    "        to_merge = to_merge.to_frame()\n",
    "        #Merge it with a left outer join\n",
    "        cohort_mrn_diagnosis = df_mrn.merge(to_merge, left_index = True, right_index = True, how=\"left\")\n",
    "        # Fill all Rows, which did not appear in the condition with 0\n",
    "        cohort_mrn_diagnosis[\"has_condition_\" + name_feature].fillna(0, inplace=True)\n",
    "    elif frequency=='COUNT':\n",
    "        # Group by Index (MRNs)\n",
    "        Count_DF = Filtered_DF.groupby([Filtered_DF.index]).count()\n",
    "        # Count random column, does not matter which\n",
    "        Count_DF = Count_DF[Onset_column]\n",
    "        #Convert Series to Frame\n",
    "        Count_DF = Count_DF.to_frame()\n",
    "        # Rename column\n",
    "        Count_DF.rename(columns={Onset_column:'number_of_occurences_' + name_feature},inplace=True)\n",
    "        # Merge as above\n",
    "        cohort_mrn_diagnosis = df_mrn.merge(Count_DF, left_index = True, right_index = True, how=\"left\")\n",
    "        cohort_mrn_diagnosis[\"number_of_occurences_\" + name_feature].fillna(0, inplace=True)\n",
    "    elif frequency=='WINDOW':\n",
    "        for mrn in cohort_indexes: \n",
    "            x = get_mrn_has_certain_condition_WINDOW(mrn,cohort_condition,df_mrn.loc[mrn][\"HT_Onset\"]-gap_in_days)\n",
    "            a = [mrn, x]\n",
    "            cohort_mrn_diagnosis.append(a)\n",
    "    else:\n",
    "        print(\"function not available\")\n",
    "    #convert list cohort_mrn_diagnosis to panda\n",
    "    #condition_name= 'has_condition_'+name_feature\n",
    "    #col_names = ['medical_record_number',condition_name]\n",
    "    #df_final=pd.DataFrame(cohort_mrn_diagnosis,columns=col_names)\n",
    "    #df_final.set_index('medical_record_number', inplace=True)\n",
    "    #df_final=df_mrn.merge( df_final, left_index=True, right_index=True)\n",
    "    #df_final.to_parquet(name_df)\n",
    "    #print(df_final)\n",
    "    df_final = cohort_mrn_diagnosis\n",
    "    return df_final"
   ]
  },
  {
   "cell_type": "code",
   "execution_count": null,
   "metadata": {},
   "outputs": [],
   "source": [
    "condition_liver = (Diagnosis(\"570%\", \"ICD-9\")|\n",
    "                  Diagnosis(\"571%\", \"ICD-9\")|\n",
    "                  Diagnosis(\"572%\", \"ICD-9\")|\n",
    "                  Diagnosis(\"573%\", \"ICD-9\")|\n",
    "                  Diagnosis(\"K70%\", \"ICD-10\")|\n",
    "                  Diagnosis(\"K71%\", \"ICD-10\")|\n",
    "                  Diagnosis(\"K72%\", \"ICD-10\")|\n",
    "                  Diagnosis(\"K73%\", \"ICD-10\")|\n",
    "                  Diagnosis(\"K74%\", \"ICD-10\")|\n",
    "                  Diagnosis(\"K75%\", \"ICD-10\")|\n",
    "                  Diagnosis(\"K76%\", \"ICD-10\")|\n",
    "                  Diagnosis(\"K77%\", \"ICD-10\"))"
   ]
  },
  {
   "cell_type": "code",
   "execution_count": null,
   "metadata": {},
   "outputs": [],
   "source": [
    "liver_EVER = get_has_certain_condition(condition_liver, Case_filtered_15_540, \"liver\", 180 , \"EVER\", \"Case\")\n"
   ]
  },
  {
   "cell_type": "code",
   "execution_count": null,
   "metadata": {},
   "outputs": [],
   "source": [
    "liver_EVER.loc[liver_EVER['has_condition_liver'] == 1]"
   ]
  },
  {
   "cell_type": "code",
   "execution_count": null,
   "metadata": {},
   "outputs": [],
   "source": [
    "liver_COUNT = get_has_certain_condition(condition_liver, Case_filtered_15_540, \"liver\", 180 , \"COUNT\", \"Case\")\n"
   ]
  },
  {
   "cell_type": "code",
   "execution_count": null,
   "metadata": {},
   "outputs": [],
   "source": [
    "liver_COUNT.loc[liver_COUNT['number_of_occurences_liver'] != 0]"
   ]
  },
  {
   "cell_type": "code",
   "execution_count": null,
   "metadata": {},
   "outputs": [],
   "source": [
    "Liver = liver_EVER.merge(liver_COUNT['number_of_occurences_liver'], left_index=True, right_index=True)\n"
   ]
  },
  {
   "cell_type": "code",
   "execution_count": null,
   "metadata": {},
   "outputs": [],
   "source": [
    "Liver\n"
   ]
  },
  {
   "cell_type": "code",
   "execution_count": null,
   "metadata": {},
   "outputs": [],
   "source": []
  }
 ],
 "metadata": {
  "kernelspec": {
   "display_name": "Python 3",
   "language": "python",
   "name": "python3"
  },
  "language_info": {
   "codemirror_mode": {
    "name": "ipython",
    "version": 3
   },
   "file_extension": ".py",
   "mimetype": "text/x-python",
   "name": "python",
   "nbconvert_exporter": "python",
   "pygments_lexer": "ipython3",
   "version": "3.7.5"
  }
 },
 "nbformat": 4,
 "nbformat_minor": 2
}
